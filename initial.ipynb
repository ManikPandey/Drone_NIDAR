{
 "cells": [
  {
   "cell_type": "code",
   "execution_count": null,
   "id": "b6db90a0",
   "metadata": {
    "vscode": {
     "languageId": "plaintext"
    }
   },
   "outputs": [],
   "source": [
    "pip install dronekit-python pygame ultralytics opencv-python picamera\n"
   ]
  },
  {
   "cell_type": "code",
   "execution_count": null,
   "id": "29a0001d",
   "metadata": {
    "vscode": {
     "languageId": "plaintext"
    }
   },
   "outputs": [],
   "source": [
    "python disaster_mission.py\n"
   ]
  },
  {
   "cell_type": "code",
   "execution_count": null,
   "id": "99506393",
   "metadata": {
    "vscode": {
     "languageId": "plaintext"
    }
   },
   "outputs": [],
   "source": [
    "import time\n",
    "import csv\n",
    "import pygame\n",
    "import cv2\n",
    "from picamera import PiCamera\n",
    "from picamera.array import PiRGBArray\n",
    "from dronekit import connect, VehicleMode, LocationGlobalRelative\n",
    "import yolov8  # Requires YOLOv8 ONNX/PyTorch installation\n"
   ]
  },
  {
   "cell_type": "code",
   "execution_count": null,
   "id": "56e725d4",
   "metadata": {
    "vscode": {
     "languageId": "plaintext"
    }
   },
   "outputs": [],
   "source": [
    "# Configuration\n",
    "CONNECTION_STRING = '/dev/ttyAMA0'\n",
    "SAFE_ALTITUDE = 15  # meters\n",
    "WAYPOINTS = [\n",
    "    LocationGlobalRelative(-35.363244, 149.168801, SAFE_ALTITUDE),\n",
    "    LocationGlobalRelative(-35.363300, 149.168900, SAFE_ALTITUDE)\n",
    "]\n",
    "BATTERY_WARN = 30  # Percentage\n",
    "BATTERY_CRITICAL = 15"
   ]
  },
  {
   "cell_type": "code",
   "execution_count": null,
   "id": "13d8c53e",
   "metadata": {
    "vscode": {
     "languageId": "plaintext"
    }
   },
   "outputs": [],
   "source": [
    "# Initialize components\n",
    "print(\"Initializing systems...\")\n",
    "vehicle = connect(CONNECTION_STRING, wait_ready=True)\n",
    "camera = PiCamera()\n",
    "camera.resolution = (640, 480)\n",
    "raw_capture = PiRGBArray(camera, size=(640, 480))\n",
    "model = yolov8.load('yolov8n_survivor.onnx')\n",
    "pygame.mixer.init()\n",
    "alert_sound = pygame.mixer.Sound('alert.wav')"
   ]
  },
  {
   "cell_type": "code",
   "execution_count": null,
   "id": "60a44307",
   "metadata": {
    "vscode": {
     "languageId": "plaintext"
    }
   },
   "outputs": [],
   "source": [
    "# Create log files\n",
    "with open('mission_log.csv', 'w') as f:\n",
    "    writer = csv.writer(f)\n",
    "    writer.writerow(['timestamp', 'lat', 'lon', 'alt', 'detections', 'battery'])\n",
    "\n",
    "def arm_and_takeoff(target_altitude):\n",
    "    print(\"Arming motors\")\n",
    "    vehicle.mode = VehicleMode(\"GUIDED\")\n",
    "    vehicle.armed = True\n",
    "\n",
    "    while not vehicle.armed:\n",
    "        time.sleep(1)\n",
    "\n",
    "    print(\"Taking off\")\n",
    "    vehicle.simple_takeoff(target_altitude)\n",
    "\n",
    "    while True:\n",
    "        if vehicle.location.global_relative_frame.alt >= target_altitude*0.95:\n",
    "            print(\"Reached target altitude\")\n",
    "            break\n",
    "        time.sleep(1)\n",
    "\n",
    "def capture_frame():\n",
    "    raw_capture.truncate(0)\n",
    "    camera.capture(raw_capture, format='bgr', use_video_port=True)\n",
    "    return raw_capture.array\n",
    "\n",
    "def detect_survivors(frame):\n",
    "    results = model(frame)\n",
    "    return [obj for obj in results if obj['label'] == 'person']\n",
    "\n",
    "def log_detection(detections):\n",
    "    with open('mission_log.csv', 'a') as f:\n",
    "        writer = csv.writer(f)\n",
    "        for obj in detections:\n",
    "            pos = vehicle.location.global_relative_frame\n",
    "            writer.writerow([\n",
    "                time.time(),\n",
    "                pos.lat,\n",
    "                pos.lon,\n",
    "                pos.alt,\n",
    "                obj['confidence'],\n",
    "                vehicle.battery.level\n",
    "            ])\n",
    "\n",
    "def check_failsafe():\n",
    "    if vehicle.battery.level < BATTERY_CRITICAL:\n",
    "        print(\"Critical battery! Landing immediately\")\n",
    "        vehicle.mode = VehicleMode(\"LAND\")\n",
    "    elif vehicle.battery.level < BATTERY_WARN:\n",
    "        print(\"Low battery! Returning to launch\")\n",
    "        vehicle.mode = VehicleMode(\"RTL\")\n",
    "    \n",
    "    if vehicle.gps_0.fix_type < 3:\n",
    "        print(\"GPS signal lost! Emergency landing\")\n",
    "        vehicle.mode = VehicleMode(\"LAND\")\n",
    "\n",
    "try:\n",
    "    arm_and_takeoff(SAFE_ALTITUDE)\n",
    "    \n",
    "    for wp in WAYPOINTS:\n",
    "        print(f\"Heading to waypoint {wp}\")\n",
    "        vehicle.simple_goto(wp)\n",
    "        \n",
    "        while vehicle.groundspeed > 0.5:  # Wait until reaching waypoint\n",
    "            check_failsafe()\n",
    "            time.sleep(1)\n",
    "        \n",
    "        frame = capture_frame()\n",
    "        detections = detect_survivors(frame)\n",
    "        \n",
    "        if detections:\n",
    "            alert_sound.play()\n",
    "            timestamp = str(time.time()).replace('.','')\n",
    "            cv2.imwrite(f'detection_{timestamp}.jpg', frame)\n",
    "            log_detection(detections)\n",
    "            \n",
    "        check_failsafe()\n",
    "\n",
    "finally:\n",
    "    print(\"Returning to launch\")\n",
    "    vehicle.mode = VehicleMode(\"RTL\")\n",
    "    \n",
    "    while vehicle.armed:\n",
    "        time.sleep(1)\n",
    "    \n",
    "    camera.close()\n",
    "    pygame.quit()\n",
    "    vehicle.close()"
   ]
  },
  {
   "cell_type": "code",
   "execution_count": null,
   "id": "771fa7fa",
   "metadata": {
    "vscode": {
     "languageId": "plaintext"
    }
   },
   "outputs": [],
   "source": []
  }
 ],
 "metadata": {
  "language_info": {
   "name": "python"
  }
 },
 "nbformat": 4,
 "nbformat_minor": 5
}
